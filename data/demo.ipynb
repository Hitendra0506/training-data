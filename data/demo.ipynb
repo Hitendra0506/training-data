{
 "cells": [
  {
   "cell_type": "code",
   "execution_count": 1,
   "metadata": {},
   "outputs": [],
   "source": [
    "import numpy as np"
   ]
  },
  {
   "cell_type": "code",
   "execution_count": 3,
   "metadata": {},
   "outputs": [
    {
     "name": "stdout",
     "output_type": "stream",
     "text": [
      " Volume in drive D is New Volume\n",
      " Volume Serial Number is 5E8F-F414\n",
      "\n",
      " Directory of D:\\training-data\\data\\labeled\n",
      "\n",
      "27-01-2021  03.30 PM    <DIR>          .\n",
      "27-01-2021  03.30 PM    <DIR>          ..\n",
      "27-01-2021  03.30 PM       188,805,228 alex_crowd_sourced_Drifting_longlines.measures.labels.npz\n",
      "27-01-2021  03.29 PM           550,836 alex_crowd_sourced_Purse_seines.measures.labels.npz\n",
      "27-01-2021  03.30 PM            10,425 alex_crowd_sourced_Unknown.measures.labels.npz\n",
      "27-01-2021  03.30 PM           196,877 false_positives_Drifting_longlines.measures.labels.npz\n",
      "27-01-2021  03.30 PM            33,956 false_positives_Fixed_gear.measures.labels.npz\n",
      "27-01-2021  03.30 PM            78,045 false_positives_Purse_seines.measures.labels.npz\n",
      "27-01-2021  03.29 PM         2,470,640 false_positives_Trawlers.measures.labels.npz\n",
      "27-01-2021  03.29 PM         4,525,240 false_positives_Unknown.measures.labels.npz\n",
      "27-01-2021  03.27 PM        53,781,163 kristina_longliner_Drifting_longlines.measures.labels.npz\n",
      "27-01-2021  03.29 PM         2,795,413 kristina_longliner_Fixed_gear.measures.labels.npz\n",
      "27-01-2021  03.29 PM         2,138,145 kristina_longliner_Unknown.measures.labels.npz\n",
      "27-01-2021  03.28 PM        60,952,307 kristina_ps_Purse_seines.measures.labels.npz\n",
      "27-01-2021  03.29 PM         8,413,714 kristina_ps_Unknown.measures.labels.npz\n",
      "27-01-2021  03.30 PM       130,237,183 kristina_trawl_Trawlers.measures.labels.npz\n",
      "27-01-2021  03.29 PM        83,775,669 pybossa_project_3_Drifting_longlines.measures.labels.npz\n",
      "27-01-2021  03.28 PM        46,562,039 pybossa_project_3_Fixed_gear.measures.labels.npz\n",
      "27-01-2021  03.29 PM         5,464,173 pybossa_project_3_Pole_and_line.measures.labels.npz\n",
      "27-01-2021  03.28 PM        15,593,777 pybossa_project_3_Purse_seines.measures.labels.npz\n",
      "27-01-2021  03.28 PM        81,939,601 pybossa_project_3_Trawlers.measures.labels.npz\n",
      "27-01-2021  03.28 PM         8,466,920 pybossa_project_3_Trollers.measures.labels.npz\n",
      "27-01-2021  03.27 PM       103,295,552 pybossa_project_3_Unknown.measures.labels.npz\n",
      "              21 File(s)    800,086,903 bytes\n",
      "               2 Dir(s)  347,762,012,160 bytes free\n"
     ]
    }
   ],
   "source": [
    "%ls labeled"
   ]
  },
  {
   "cell_type": "code",
   "execution_count": 4,
   "metadata": {},
   "outputs": [],
   "source": [
    "data = np.load('labeled/alex_crowd_sourced_Drifting_longlines.measures.labels.npz')"
   ]
  },
  {
   "cell_type": "code",
   "execution_count": 8,
   "metadata": {},
   "outputs": [
    {
     "data": {
      "text/plain": [
       "(0.40520766, 0.79506833, -3., -0.72602066, 0.4760114, 0.5706071, 0., 0.27099548, 8.17121856e-07, 1., 1., 36.20000076, 0.41762128, 0.03496614, 0.88453781, 3.0999999, 1., 0.0108088, 0., -18.35047664, -18.39658423, 36234.44921875, -18.32567406, 0., 178.66952515, 1., 178.66952515, 0.88595825, -18.32567406, -0.39125189, -18.40359208, 0., 99., 35., -0.9459894, 178.66952515, 0.45195341, 7.30916766e-07, 178.65162905, 0.10055556, 0.00903937, 22471.65234375, 0.10055556, 0., 0.1122428, -0.56543832, 178.65011771, 1.40722207e+09, -1.4664934, -0.22045573, 0.860181, 0.60092761, 0.81764706, 0.10055556, 0.03315911, 0., -18.32567406, 39., 0., 1.65080543e+13, 0.0160359, 31., -1.0893412, 0., 0.08040645, 0.36481482, 178.6957752, -2.99968268, -18.40490796, -1.44410621, 0., 0., 0., 0.0140329, -3., 0.81764706, 178.65645189, -2.99964527, 0.44817461, 0.18692274, 0.81764706)"
      ]
     },
     "execution_count": 8,
     "metadata": {},
     "output_type": "execute_result"
    }
   ],
   "source": [
    "data['x'][0]"
   ]
  },
  {
   "cell_type": "code",
   "execution_count": 9,
   "metadata": {},
   "outputs": [],
   "source": [
    "import pandas as pd"
   ]
  },
  {
   "cell_type": "code",
   "execution_count": 10,
   "metadata": {},
   "outputs": [],
   "source": [
    "df = pd.read_csv('mmsis.csv')"
   ]
  },
  {
   "cell_type": "code",
   "execution_count": 12,
   "metadata": {},
   "outputs": [
    {
     "data": {
      "text/plain": [
       "23142"
      ]
     },
     "execution_count": 12,
     "metadata": {},
     "output_type": "execute_result"
    }
   ],
   "source": [
    "len(df)"
   ]
  },
  {
   "cell_type": "code",
   "execution_count": 14,
   "metadata": {},
   "outputs": [],
   "source": [
    "import os"
   ]
  },
  {
   "cell_type": "code",
   "execution_count": 15,
   "metadata": {},
   "outputs": [],
   "source": [
    "files = os.listdir('tracks/')"
   ]
  },
  {
   "cell_type": "code",
   "execution_count": 17,
   "metadata": {},
   "outputs": [
    {
     "data": {
      "text/plain": [
       "'100043174358994.npz'"
      ]
     },
     "execution_count": 17,
     "metadata": {},
     "output_type": "execute_result"
    }
   ],
   "source": [
    "files[0]"
   ]
  },
  {
   "cell_type": "code",
   "execution_count": 22,
   "metadata": {},
   "outputs": [],
   "source": [
    "idx = int(files[0].split('.')[0])"
   ]
  },
  {
   "cell_type": "code",
   "execution_count": 23,
   "metadata": {},
   "outputs": [
    {
     "data": {
      "text/html": [
       "<div>\n",
       "<style scoped>\n",
       "    .dataframe tbody tr th:only-of-type {\n",
       "        vertical-align: middle;\n",
       "    }\n",
       "\n",
       "    .dataframe tbody tr th {\n",
       "        vertical-align: top;\n",
       "    }\n",
       "\n",
       "    .dataframe thead th {\n",
       "        text-align: right;\n",
       "    }\n",
       "</style>\n",
       "<table border=\"1\" class=\"dataframe\">\n",
       "  <thead>\n",
       "    <tr style=\"text-align: right;\">\n",
       "      <th></th>\n",
       "      <th>mmsi</th>\n",
       "      <th>is_fishing</th>\n",
       "      <th>label</th>\n",
       "      <th>sublabel</th>\n",
       "      <th>length</th>\n",
       "      <th>tonnage</th>\n",
       "      <th>list_sources</th>\n",
       "      <th>with_ranges</th>\n",
       "    </tr>\n",
       "  </thead>\n",
       "  <tbody>\n",
       "    <tr>\n",
       "      <th>23044</th>\n",
       "      <td>100043174358994</td>\n",
       "      <td>Fishing</td>\n",
       "      <td>Drifting longlines</td>\n",
       "      <td>NaN</td>\n",
       "      <td>NaN</td>\n",
       "      <td>NaN</td>\n",
       "      <td>NaN</td>\n",
       "      <td>True</td>\n",
       "    </tr>\n",
       "  </tbody>\n",
       "</table>\n",
       "</div>"
      ],
      "text/plain": [
       "                  mmsi is_fishing               label sublabel  length  \\\n",
       "23044  100043174358994    Fishing  Drifting longlines      NaN     NaN   \n",
       "\n",
       "       tonnage list_sources  with_ranges  \n",
       "23044      NaN          NaN         True  "
      ]
     },
     "execution_count": 23,
     "metadata": {},
     "output_type": "execute_result"
    }
   ],
   "source": [
    "df[df['mmsi']==idx]"
   ]
  },
  {
   "cell_type": "code",
   "execution_count": 25,
   "metadata": {},
   "outputs": [],
   "source": [
    "track = np.load('tracks/' + files[0])"
   ]
  },
  {
   "cell_type": "code",
   "execution_count": 33,
   "metadata": {},
   "outputs": [
    {
     "data": {
      "text/plain": [
       "1368677014.0"
      ]
     },
     "execution_count": 33,
     "metadata": {},
     "output_type": "execute_result"
    }
   ],
   "source": [
    "track['x'][0][1]"
   ]
  },
  {
   "cell_type": "code",
   "execution_count": 34,
   "metadata": {},
   "outputs": [
    {
     "data": {
      "text/html": [
       "<div>\n",
       "<style scoped>\n",
       "    .dataframe tbody tr th:only-of-type {\n",
       "        vertical-align: middle;\n",
       "    }\n",
       "\n",
       "    .dataframe tbody tr th {\n",
       "        vertical-align: top;\n",
       "    }\n",
       "\n",
       "    .dataframe thead th {\n",
       "        text-align: right;\n",
       "    }\n",
       "</style>\n",
       "<table border=\"1\" class=\"dataframe\">\n",
       "  <thead>\n",
       "    <tr style=\"text-align: right;\">\n",
       "      <th></th>\n",
       "      <th>mmsi</th>\n",
       "      <th>is_fishing</th>\n",
       "      <th>label</th>\n",
       "      <th>sublabel</th>\n",
       "      <th>length</th>\n",
       "      <th>tonnage</th>\n",
       "      <th>list_sources</th>\n",
       "      <th>with_ranges</th>\n",
       "    </tr>\n",
       "  </thead>\n",
       "  <tbody>\n",
       "    <tr>\n",
       "      <th>0</th>\n",
       "      <td>12208566615976</td>\n",
       "      <td>Non-fishing</td>\n",
       "      <td>Passenger</td>\n",
       "      <td>NaN</td>\n",
       "      <td>NaN</td>\n",
       "      <td>NaN</td>\n",
       "      <td>five24_fishing</td>\n",
       "      <td>False</td>\n",
       "    </tr>\n",
       "    <tr>\n",
       "      <th>1</th>\n",
       "      <td>225434465856812</td>\n",
       "      <td>Non-fishing</td>\n",
       "      <td>Tug/Pilot/Supply</td>\n",
       "      <td>Pilot</td>\n",
       "      <td>NaN</td>\n",
       "      <td>NaN</td>\n",
       "      <td>five24_fishing</td>\n",
       "      <td>False</td>\n",
       "    </tr>\n",
       "    <tr>\n",
       "      <th>2</th>\n",
       "      <td>19281765106680</td>\n",
       "      <td>Non-fishing</td>\n",
       "      <td>Cargo/Tanker</td>\n",
       "      <td>Cargo</td>\n",
       "      <td>NaN</td>\n",
       "      <td>NaN</td>\n",
       "      <td>five24_fishing</td>\n",
       "      <td>False</td>\n",
       "    </tr>\n",
       "    <tr>\n",
       "      <th>3</th>\n",
       "      <td>174873964611486</td>\n",
       "      <td>Fishing</td>\n",
       "      <td>Purse seines</td>\n",
       "      <td>NaN</td>\n",
       "      <td>NaN</td>\n",
       "      <td>NaN</td>\n",
       "      <td>kristina_fishing</td>\n",
       "      <td>False</td>\n",
       "    </tr>\n",
       "    <tr>\n",
       "      <th>4</th>\n",
       "      <td>129519122510954</td>\n",
       "      <td>Fishing</td>\n",
       "      <td>NaN</td>\n",
       "      <td>NaN</td>\n",
       "      <td>26.61</td>\n",
       "      <td>235.0</td>\n",
       "      <td>eu_fishing</td>\n",
       "      <td>False</td>\n",
       "    </tr>\n",
       "  </tbody>\n",
       "</table>\n",
       "</div>"
      ],
      "text/plain": [
       "              mmsi   is_fishing             label sublabel  length  tonnage  \\\n",
       "0   12208566615976  Non-fishing         Passenger      NaN     NaN      NaN   \n",
       "1  225434465856812  Non-fishing  Tug/Pilot/Supply    Pilot     NaN      NaN   \n",
       "2   19281765106680  Non-fishing      Cargo/Tanker    Cargo     NaN      NaN   \n",
       "3  174873964611486      Fishing      Purse seines      NaN     NaN      NaN   \n",
       "4  129519122510954      Fishing               NaN      NaN   26.61    235.0   \n",
       "\n",
       "       list_sources  with_ranges  \n",
       "0    five24_fishing        False  \n",
       "1    five24_fishing        False  \n",
       "2    five24_fishing        False  \n",
       "3  kristina_fishing        False  \n",
       "4        eu_fishing        False  "
      ]
     },
     "execution_count": 34,
     "metadata": {},
     "output_type": "execute_result"
    }
   ],
   "source": [
    "df.head()"
   ]
  },
  {
   "cell_type": "code",
   "execution_count": null,
   "metadata": {},
   "outputs": [],
   "source": []
  },
  {
   "cell_type": "code",
   "execution_count": null,
   "metadata": {},
   "outputs": [],
   "source": []
  },
  {
   "cell_type": "code",
   "execution_count": null,
   "metadata": {},
   "outputs": [],
   "source": []
  }
 ],
 "metadata": {
  "kernelspec": {
   "display_name": "Python 3",
   "language": "python",
   "name": "python3"
  },
  "language_info": {
   "codemirror_mode": {
    "name": "ipython",
    "version": 3
   },
   "file_extension": ".py",
   "mimetype": "text/x-python",
   "name": "python",
   "nbconvert_exporter": "python",
   "pygments_lexer": "ipython3",
   "version": "3.7.2"
  }
 },
 "nbformat": 4,
 "nbformat_minor": 4
}
