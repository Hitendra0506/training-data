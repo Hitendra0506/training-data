{
 "cells": [
  {
   "cell_type": "code",
   "execution_count": 1,
   "metadata": {},
   "outputs": [],
   "source": [
    "import numpy as np"
   ]
  },
  {
   "cell_type": "code",
   "execution_count": 3,
   "metadata": {},
   "outputs": [
    {
     "name": "stdout",
     "output_type": "stream",
     "text": [
      " Volume in drive D is New Volume\n",
      " Volume Serial Number is 5E8F-F414\n",
      "\n",
      " Directory of D:\\training-data\\data\\labeled\n",
      "\n",
      "27-01-2021  03.30 PM    <DIR>          .\n",
      "27-01-2021  03.30 PM    <DIR>          ..\n",
      "27-01-2021  03.30 PM       188,805,228 alex_crowd_sourced_Drifting_longlines.measures.labels.npz\n",
      "27-01-2021  03.29 PM           550,836 alex_crowd_sourced_Purse_seines.measures.labels.npz\n",
      "27-01-2021  03.30 PM            10,425 alex_crowd_sourced_Unknown.measures.labels.npz\n",
      "27-01-2021  03.30 PM           196,877 false_positives_Drifting_longlines.measures.labels.npz\n",
      "27-01-2021  03.30 PM            33,956 false_positives_Fixed_gear.measures.labels.npz\n",
      "27-01-2021  03.30 PM            78,045 false_positives_Purse_seines.measures.labels.npz\n",
      "27-01-2021  03.29 PM         2,470,640 false_positives_Trawlers.measures.labels.npz\n",
      "27-01-2021  03.29 PM         4,525,240 false_positives_Unknown.measures.labels.npz\n",
      "27-01-2021  03.27 PM        53,781,163 kristina_longliner_Drifting_longlines.measures.labels.npz\n",
      "27-01-2021  03.29 PM         2,795,413 kristina_longliner_Fixed_gear.measures.labels.npz\n",
      "27-01-2021  03.29 PM         2,138,145 kristina_longliner_Unknown.measures.labels.npz\n",
      "27-01-2021  03.28 PM        60,952,307 kristina_ps_Purse_seines.measures.labels.npz\n",
      "27-01-2021  03.29 PM         8,413,714 kristina_ps_Unknown.measures.labels.npz\n",
      "27-01-2021  03.30 PM       130,237,183 kristina_trawl_Trawlers.measures.labels.npz\n",
      "27-01-2021  03.29 PM        83,775,669 pybossa_project_3_Drifting_longlines.measures.labels.npz\n",
      "27-01-2021  03.28 PM        46,562,039 pybossa_project_3_Fixed_gear.measures.labels.npz\n",
      "27-01-2021  03.29 PM         5,464,173 pybossa_project_3_Pole_and_line.measures.labels.npz\n",
      "27-01-2021  03.28 PM        15,593,777 pybossa_project_3_Purse_seines.measures.labels.npz\n",
      "27-01-2021  03.28 PM        81,939,601 pybossa_project_3_Trawlers.measures.labels.npz\n",
      "27-01-2021  03.28 PM         8,466,920 pybossa_project_3_Trollers.measures.labels.npz\n",
      "27-01-2021  03.27 PM       103,295,552 pybossa_project_3_Unknown.measures.labels.npz\n",
      "              21 File(s)    800,086,903 bytes\n",
      "               2 Dir(s)  347,762,012,160 bytes free\n"
     ]
    }
   ],
   "source": [
    "%ls labeled"
   ]
  },
  {
   "cell_type": "code",
   "execution_count": 4,
   "metadata": {},
   "outputs": [],
   "source": [
    "data = np.load('labeled/alex_crowd_sourced_Drifting_longlines.measures.labels.npz')"
   ]
  },
  {
   "cell_type": "code",
   "execution_count": 8,
   "metadata": {},
   "outputs": [
    {
     "data": {
      "text/plain": [
       "(0.40520766, 0.79506833, -3., -0.72602066, 0.4760114, 0.5706071, 0., 0.27099548, 8.17121856e-07, 1., 1., 36.20000076, 0.41762128, 0.03496614, 0.88453781, 3.0999999, 1., 0.0108088, 0., -18.35047664, -18.39658423, 36234.44921875, -18.32567406, 0., 178.66952515, 1., 178.66952515, 0.88595825, -18.32567406, -0.39125189, -18.40359208, 0., 99., 35., -0.9459894, 178.66952515, 0.45195341, 7.30916766e-07, 178.65162905, 0.10055556, 0.00903937, 22471.65234375, 0.10055556, 0., 0.1122428, -0.56543832, 178.65011771, 1.40722207e+09, -1.4664934, -0.22045573, 0.860181, 0.60092761, 0.81764706, 0.10055556, 0.03315911, 0., -18.32567406, 39., 0., 1.65080543e+13, 0.0160359, 31., -1.0893412, 0., 0.08040645, 0.36481482, 178.6957752, -2.99968268, -18.40490796, -1.44410621, 0., 0., 0., 0.0140329, -3., 0.81764706, 178.65645189, -2.99964527, 0.44817461, 0.18692274, 0.81764706)"
      ]
     },
     "execution_count": 8,
     "metadata": {},
     "output_type": "execute_result"
    }
   ],
   "source": [
    "data['x'][0]"
   ]
  },
  {
   "cell_type": "code",
   "execution_count": null,
   "metadata": {},
   "outputs": [],
   "source": []
  },
  {
   "cell_type": "code",
   "execution_count": null,
   "metadata": {},
   "outputs": [],
   "source": []
  },
  {
   "cell_type": "code",
   "execution_count": null,
   "metadata": {},
   "outputs": [],
   "source": []
  }
 ],
 "metadata": {
  "kernelspec": {
   "display_name": "Python 3",
   "language": "python",
   "name": "python3"
  },
  "language_info": {
   "codemirror_mode": {
    "name": "ipython",
    "version": 3
   },
   "file_extension": ".py",
   "mimetype": "text/x-python",
   "name": "python",
   "nbconvert_exporter": "python",
   "pygments_lexer": "ipython3",
   "version": "3.7.2"
  }
 },
 "nbformat": 4,
 "nbformat_minor": 4
}
